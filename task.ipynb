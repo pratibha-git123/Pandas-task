{
 "cells": [
  {
   "cell_type": "markdown",
   "id": "a6bc57b7-1b8c-4a9e-a450-20fad19d50d1",
   "metadata": {},
   "source": [
    "##   1. Simple Calculations \n",
    "\n",
    "Scenario: You have a dataset with product prices and quantities sold. \n",
    "\n",
    "Goal: Calculate the total revenue generated for each product by multiplying price by quantity. \n"
   ]
  },
  {
   "cell_type": "code",
   "execution_count": 1,
   "id": "5b1076ce-bbf1-4b26-9142-3d6d2fd50f70",
   "metadata": {},
   "outputs": [],
   "source": [
    " import pandas as pd\n",
    " import numpy as np"
   ]
  },
  {
   "cell_type": "code",
   "execution_count": 2,
   "id": "b432889e-c1a1-427a-a0d7-0320506c13df",
   "metadata": {},
   "outputs": [
    {
     "data": {
      "text/html": [
       "<div>\n",
       "<style scoped>\n",
       "    .dataframe tbody tr th:only-of-type {\n",
       "        vertical-align: middle;\n",
       "    }\n",
       "\n",
       "    .dataframe tbody tr th {\n",
       "        vertical-align: top;\n",
       "    }\n",
       "\n",
       "    .dataframe thead th {\n",
       "        text-align: right;\n",
       "    }\n",
       "</style>\n",
       "<table border=\"1\" class=\"dataframe\">\n",
       "  <thead>\n",
       "    <tr style=\"text-align: right;\">\n",
       "      <th></th>\n",
       "      <th>Product prices</th>\n",
       "      <th>Quantities sold</th>\n",
       "    </tr>\n",
       "  </thead>\n",
       "  <tbody>\n",
       "    <tr>\n",
       "      <th>0</th>\n",
       "      <td>10</td>\n",
       "      <td>3</td>\n",
       "    </tr>\n",
       "    <tr>\n",
       "      <th>1</th>\n",
       "      <td>20</td>\n",
       "      <td>6</td>\n",
       "    </tr>\n",
       "    <tr>\n",
       "      <th>2</th>\n",
       "      <td>35</td>\n",
       "      <td>8</td>\n",
       "    </tr>\n",
       "    <tr>\n",
       "      <th>3</th>\n",
       "      <td>30</td>\n",
       "      <td>9</td>\n",
       "    </tr>\n",
       "    <tr>\n",
       "      <th>4</th>\n",
       "      <td>40</td>\n",
       "      <td>5</td>\n",
       "    </tr>\n",
       "    <tr>\n",
       "      <th>5</th>\n",
       "      <td>45</td>\n",
       "      <td>4</td>\n",
       "    </tr>\n",
       "    <tr>\n",
       "      <th>6</th>\n",
       "      <td>42</td>\n",
       "      <td>2</td>\n",
       "    </tr>\n",
       "    <tr>\n",
       "      <th>7</th>\n",
       "      <td>100</td>\n",
       "      <td>1</td>\n",
       "    </tr>\n",
       "    <tr>\n",
       "      <th>8</th>\n",
       "      <td>80</td>\n",
       "      <td>7</td>\n",
       "    </tr>\n",
       "  </tbody>\n",
       "</table>\n",
       "</div>"
      ],
      "text/plain": [
       "   Product prices  Quantities sold\n",
       "0              10                3\n",
       "1              20                6\n",
       "2              35                8\n",
       "3              30                9\n",
       "4              40                5\n",
       "5              45                4\n",
       "6              42                2\n",
       "7             100                1\n",
       "8              80                7"
      ]
     },
     "execution_count": 2,
     "metadata": {},
     "output_type": "execute_result"
    }
   ],
   "source": [
    "df=pd.read_csv('Quantities sold.csv')\n",
    "df"
   ]
  },
  {
   "cell_type": "code",
   "execution_count": 3,
   "id": "b517886e-e88d-453b-aca5-64c276920395",
   "metadata": {},
   "outputs": [
    {
     "data": {
      "text/html": [
       "<div>\n",
       "<style scoped>\n",
       "    .dataframe tbody tr th:only-of-type {\n",
       "        vertical-align: middle;\n",
       "    }\n",
       "\n",
       "    .dataframe tbody tr th {\n",
       "        vertical-align: top;\n",
       "    }\n",
       "\n",
       "    .dataframe thead th {\n",
       "        text-align: right;\n",
       "    }\n",
       "</style>\n",
       "<table border=\"1\" class=\"dataframe\">\n",
       "  <thead>\n",
       "    <tr style=\"text-align: right;\">\n",
       "      <th></th>\n",
       "      <th>Product prices</th>\n",
       "      <th>Quantities sold</th>\n",
       "      <th>Revenue</th>\n",
       "    </tr>\n",
       "  </thead>\n",
       "  <tbody>\n",
       "    <tr>\n",
       "      <th>0</th>\n",
       "      <td>10</td>\n",
       "      <td>3</td>\n",
       "      <td>30</td>\n",
       "    </tr>\n",
       "    <tr>\n",
       "      <th>1</th>\n",
       "      <td>20</td>\n",
       "      <td>6</td>\n",
       "      <td>120</td>\n",
       "    </tr>\n",
       "    <tr>\n",
       "      <th>2</th>\n",
       "      <td>35</td>\n",
       "      <td>8</td>\n",
       "      <td>280</td>\n",
       "    </tr>\n",
       "    <tr>\n",
       "      <th>3</th>\n",
       "      <td>30</td>\n",
       "      <td>9</td>\n",
       "      <td>270</td>\n",
       "    </tr>\n",
       "    <tr>\n",
       "      <th>4</th>\n",
       "      <td>40</td>\n",
       "      <td>5</td>\n",
       "      <td>200</td>\n",
       "    </tr>\n",
       "  </tbody>\n",
       "</table>\n",
       "</div>"
      ],
      "text/plain": [
       "   Product prices  Quantities sold  Revenue\n",
       "0              10                3       30\n",
       "1              20                6      120\n",
       "2              35                8      280\n",
       "3              30                9      270\n",
       "4              40                5      200"
      ]
     },
     "execution_count": 3,
     "metadata": {},
     "output_type": "execute_result"
    }
   ],
   "source": [
    "df['Revenue']=df['Product prices']*df['Quantities sold']\n",
    "df.head()"
   ]
  },
  {
   "cell_type": "markdown",
   "id": "22d41d76-eff2-4633-b9b4-546146186789",
   "metadata": {},
   "source": [
    "\n",
    "## 2. Extracting Information from Strings \n",
    "\n",
    "Scenario: You have a list of email addresses. \n",
    "\n",
    "Goal: Extract the username (part before the \"@\" symbol) from each email address. "
   ]
  },
  {
   "cell_type": "code",
   "execution_count": 8,
   "id": "895bd795-70c3-489c-9fb2-73154bd9d4f0",
   "metadata": {},
   "outputs": [
    {
     "name": "stdout",
     "output_type": "stream",
     "text": [
      "                Email  username\n",
      "0      pratibha@gmail  pratibha\n",
      "1  nsti_ald@gmail.com  nsti_ald\n"
     ]
    }
   ],
   "source": [
    "import pandas as pd\n",
    "\n",
    "# Create a sample DataFrame with email addresses\n",
    "df = pd.DataFrame({'Email': ['pratibha@gmail','nsti_ald@gmail.com']})\n",
    "\n",
    "# Extract the usernames\n",
    "df['username'] = df['Email'].str.split(\"@\").str[0]\n",
    "\n",
    "print(df)\n"
   ]
  },
  {
   "cell_type": "markdown",
   "id": "4edfb5ed-9432-4703-af4d-6adbdf40bf9e",
   "metadata": {},
   "source": [
    " ## 3. Simple Conditional Statements \n",
    "\n",
    "Scenario: You have a list of product prices and a discount percentage. \n",
    "\n",
    "Goal: Write code to calculate the final price for each product after applying the discount. \n"
   ]
  },
  {
   "cell_type": "code",
   "execution_count": 10,
   "id": "44145ada-47f7-4dfd-a7a2-9945e4fe715b",
   "metadata": {},
   "outputs": [
    {
     "name": "stdin",
     "output_type": "stream",
     "text": [
      "Enter the total purchase amount:  8\n"
     ]
    },
    {
     "name": "stdout",
     "output_type": "stream",
     "text": [
      "Your total cost is not in the range of discount!\n",
      "Final price after applying the discount: $8.00\n"
     ]
    }
   ],
   "source": [
    "def calculate_discounted_price(total_cost):\n",
    "    if total_cost >= 500:\n",
    "        print(\"You have won a discount by 15 percent\")\n",
    "        total_cost *= 0.85\n",
    "    elif total_cost > 100:\n",
    "        print(\"You have won a discount by 10 percent\")\n",
    "        total_cost *= 0.9\n",
    "    elif total_cost >= 50:\n",
    "        print(\"You have won a discount by 5 percent\")\n",
    "        total_cost *= 0.95\n",
    "    else:\n",
    "        print(\"Your total cost is not in the range of discount!\")\n",
    "\n",
    "    return total_cost\n",
    "\n",
    "# Example usage:\n",
    "purchase_amount = float(input(\"Enter the total purchase amount: \"))\n",
    "final_price = calculate_discounted_price(purchase_amount)\n",
    "print(f\"Final price after applying the discount: ${final_price:.2f}\")\n"
   ]
  },
  {
   "cell_type": "markdown",
   "id": "70606218-cf29-4554-b61f-e9c7fd89e19b",
   "metadata": {},
   "source": [
    "##  4. Sorting Data \n",
    "\n",
    "Scenario: You have a DataFrame containing product information with prices and ratings. \n",
    "\n",
    "Goal: Sort the DataFrame by: \n",
    "\n",
    "Price (ascending order - cheapest to most expensive). \n",
    "\n",
    "Rating (descending order - highest to lowest rating). \n"
   ]
  },
  {
   "cell_type": "code",
   "execution_count": 11,
   "id": "9fa1efac-ff42-486d-b547-cfcc42c635ff",
   "metadata": {},
   "outputs": [
    {
     "data": {
      "text/html": [
       "<div>\n",
       "<style scoped>\n",
       "    .dataframe tbody tr th:only-of-type {\n",
       "        vertical-align: middle;\n",
       "    }\n",
       "\n",
       "    .dataframe tbody tr th {\n",
       "        vertical-align: top;\n",
       "    }\n",
       "\n",
       "    .dataframe thead th {\n",
       "        text-align: right;\n",
       "    }\n",
       "</style>\n",
       "<table border=\"1\" class=\"dataframe\">\n",
       "  <thead>\n",
       "    <tr style=\"text-align: right;\">\n",
       "      <th></th>\n",
       "      <th>Brand</th>\n",
       "      <th>Price</th>\n",
       "      <th>Rating(out of 10)</th>\n",
       "    </tr>\n",
       "  </thead>\n",
       "  <tbody>\n",
       "    <tr>\n",
       "      <th>0</th>\n",
       "      <td>HH</td>\n",
       "      <td>84982</td>\n",
       "      <td>7</td>\n",
       "    </tr>\n",
       "    <tr>\n",
       "      <th>1</th>\n",
       "      <td>AA</td>\n",
       "      <td>97981</td>\n",
       "      <td>4</td>\n",
       "    </tr>\n",
       "    <tr>\n",
       "      <th>2</th>\n",
       "      <td>NN</td>\n",
       "      <td>7699</td>\n",
       "      <td>8</td>\n",
       "    </tr>\n",
       "    <tr>\n",
       "      <th>3</th>\n",
       "      <td>CC</td>\n",
       "      <td>7637</td>\n",
       "      <td>9</td>\n",
       "    </tr>\n",
       "    <tr>\n",
       "      <th>4</th>\n",
       "      <td>FF</td>\n",
       "      <td>9448</td>\n",
       "      <td>5</td>\n",
       "    </tr>\n",
       "    <tr>\n",
       "      <th>5</th>\n",
       "      <td>II</td>\n",
       "      <td>5608</td>\n",
       "      <td>6</td>\n",
       "    </tr>\n",
       "    <tr>\n",
       "      <th>6</th>\n",
       "      <td>UU</td>\n",
       "      <td>17199</td>\n",
       "      <td>8</td>\n",
       "    </tr>\n",
       "  </tbody>\n",
       "</table>\n",
       "</div>"
      ],
      "text/plain": [
       "  Brand  Price Rating(out of 10)\n",
       "0    HH  84982                 7\n",
       "1    AA  97981                 4\n",
       "2    NN   7699                 8\n",
       "3    CC   7637                 9\n",
       "4    FF   9448                 5\n",
       "5    II   5608                 6\n",
       "6    UU  17199                 8"
      ]
     },
     "execution_count": 11,
     "metadata": {},
     "output_type": "execute_result"
    }
   ],
   "source": [
    "#   Creating DataFrame containing product information with prices and ratings.\n",
    "DataFrame = [\n",
    "            ['HH', 84982, '7'],\n",
    "            ['AA', 97981, '4'],\n",
    "            ['NN', 7699, '8'],\n",
    "            ['CC', 7637, '9'],\n",
    "            ['FF', 9448, '5'],\n",
    "            ['II', 5608, '6'],\n",
    "            ['UU', 17199, '8']\n",
    "          ]\n",
    " \n",
    "# creating a pandas dataframe\n",
    "df = pd.DataFrame(DataFrame, columns=['Brand','Price', 'Rating(out of 10)'])\n",
    "df"
   ]
  },
  {
   "cell_type": "code",
   "execution_count": 12,
   "id": "f27e3361-e7b0-4abb-92bf-c2e263cd0a77",
   "metadata": {},
   "outputs": [
    {
     "data": {
      "text/html": [
       "<div>\n",
       "<style scoped>\n",
       "    .dataframe tbody tr th:only-of-type {\n",
       "        vertical-align: middle;\n",
       "    }\n",
       "\n",
       "    .dataframe tbody tr th {\n",
       "        vertical-align: top;\n",
       "    }\n",
       "\n",
       "    .dataframe thead th {\n",
       "        text-align: right;\n",
       "    }\n",
       "</style>\n",
       "<table border=\"1\" class=\"dataframe\">\n",
       "  <thead>\n",
       "    <tr style=\"text-align: right;\">\n",
       "      <th></th>\n",
       "      <th>Brand</th>\n",
       "      <th>Price</th>\n",
       "      <th>Rating(out of 10)</th>\n",
       "    </tr>\n",
       "  </thead>\n",
       "  <tbody>\n",
       "    <tr>\n",
       "      <th>5</th>\n",
       "      <td>II</td>\n",
       "      <td>5608</td>\n",
       "      <td>6</td>\n",
       "    </tr>\n",
       "    <tr>\n",
       "      <th>3</th>\n",
       "      <td>CC</td>\n",
       "      <td>7637</td>\n",
       "      <td>9</td>\n",
       "    </tr>\n",
       "    <tr>\n",
       "      <th>2</th>\n",
       "      <td>NN</td>\n",
       "      <td>7699</td>\n",
       "      <td>8</td>\n",
       "    </tr>\n",
       "    <tr>\n",
       "      <th>4</th>\n",
       "      <td>FF</td>\n",
       "      <td>9448</td>\n",
       "      <td>5</td>\n",
       "    </tr>\n",
       "    <tr>\n",
       "      <th>6</th>\n",
       "      <td>UU</td>\n",
       "      <td>17199</td>\n",
       "      <td>8</td>\n",
       "    </tr>\n",
       "    <tr>\n",
       "      <th>0</th>\n",
       "      <td>HH</td>\n",
       "      <td>84982</td>\n",
       "      <td>7</td>\n",
       "    </tr>\n",
       "    <tr>\n",
       "      <th>1</th>\n",
       "      <td>AA</td>\n",
       "      <td>97981</td>\n",
       "      <td>4</td>\n",
       "    </tr>\n",
       "  </tbody>\n",
       "</table>\n",
       "</div>"
      ],
      "text/plain": [
       "  Brand  Price Rating(out of 10)\n",
       "5    II   5608                 6\n",
       "3    CC   7637                 9\n",
       "2    NN   7699                 8\n",
       "4    FF   9448                 5\n",
       "6    UU  17199                 8\n",
       "0    HH  84982                 7\n",
       "1    AA  97981                 4"
      ]
     },
     "execution_count": 12,
     "metadata": {},
     "output_type": "execute_result"
    }
   ],
   "source": [
    "# Price (ascending order - cheapest to most expensive).\n",
    "df.sort_values(by=['Price'], ascending=True)"
   ]
  },
  {
   "cell_type": "code",
   "execution_count": 13,
   "id": "7c27f437-4abf-4c71-8d3c-ec2c9b90b432",
   "metadata": {},
   "outputs": [
    {
     "data": {
      "text/html": [
       "<div>\n",
       "<style scoped>\n",
       "    .dataframe tbody tr th:only-of-type {\n",
       "        vertical-align: middle;\n",
       "    }\n",
       "\n",
       "    .dataframe tbody tr th {\n",
       "        vertical-align: top;\n",
       "    }\n",
       "\n",
       "    .dataframe thead th {\n",
       "        text-align: right;\n",
       "    }\n",
       "</style>\n",
       "<table border=\"1\" class=\"dataframe\">\n",
       "  <thead>\n",
       "    <tr style=\"text-align: right;\">\n",
       "      <th></th>\n",
       "      <th>Brand</th>\n",
       "      <th>Price</th>\n",
       "      <th>Rating(out of 10)</th>\n",
       "    </tr>\n",
       "  </thead>\n",
       "  <tbody>\n",
       "    <tr>\n",
       "      <th>3</th>\n",
       "      <td>CC</td>\n",
       "      <td>7637</td>\n",
       "      <td>9</td>\n",
       "    </tr>\n",
       "    <tr>\n",
       "      <th>2</th>\n",
       "      <td>NN</td>\n",
       "      <td>7699</td>\n",
       "      <td>8</td>\n",
       "    </tr>\n",
       "    <tr>\n",
       "      <th>6</th>\n",
       "      <td>UU</td>\n",
       "      <td>17199</td>\n",
       "      <td>8</td>\n",
       "    </tr>\n",
       "    <tr>\n",
       "      <th>0</th>\n",
       "      <td>HH</td>\n",
       "      <td>84982</td>\n",
       "      <td>7</td>\n",
       "    </tr>\n",
       "    <tr>\n",
       "      <th>5</th>\n",
       "      <td>II</td>\n",
       "      <td>5608</td>\n",
       "      <td>6</td>\n",
       "    </tr>\n",
       "    <tr>\n",
       "      <th>4</th>\n",
       "      <td>FF</td>\n",
       "      <td>9448</td>\n",
       "      <td>5</td>\n",
       "    </tr>\n",
       "    <tr>\n",
       "      <th>1</th>\n",
       "      <td>AA</td>\n",
       "      <td>97981</td>\n",
       "      <td>4</td>\n",
       "    </tr>\n",
       "  </tbody>\n",
       "</table>\n",
       "</div>"
      ],
      "text/plain": [
       "  Brand  Price Rating(out of 10)\n",
       "3    CC   7637                 9\n",
       "2    NN   7699                 8\n",
       "6    UU  17199                 8\n",
       "0    HH  84982                 7\n",
       "5    II   5608                 6\n",
       "4    FF   9448                 5\n",
       "1    AA  97981                 4"
      ]
     },
     "execution_count": 13,
     "metadata": {},
     "output_type": "execute_result"
    }
   ],
   "source": [
    "# Rating (descending order - highest to lowest rating).\n",
    "df.sort_values(by=['Rating(out of 10)'], ascending=False)"
   ]
  },
  {
   "cell_type": "markdown",
   "id": "884936ed-8422-402a-b2d4-3419ae6f9e79",
   "metadata": {},
   "source": [
    "## 5. Data Cleaning and Transformation \n",
    "\n",
    "Scenario: You have a dataset on customer purchases with the following issues: \n",
    "\n",
    "Missing values in the \"price\" column. \n",
    "\n",
    "Inconsistent data types (prices might be strings with a currency symbol). \n",
    "\n",
    "Inconsistent product names (typos or capitalization). \n",
    "\n",
    "Goal: Clean and transform the data using pandas functions"
   ]
  },
  {
   "cell_type": "code",
   "execution_count": 108,
   "id": "78fe0bda-e098-4235-a48f-6b6128064874",
   "metadata": {},
   "outputs": [
    {
     "data": {
      "text/html": [
       "<div>\n",
       "<style scoped>\n",
       "    .dataframe tbody tr th:only-of-type {\n",
       "        vertical-align: middle;\n",
       "    }\n",
       "\n",
       "    .dataframe tbody tr th {\n",
       "        vertical-align: top;\n",
       "    }\n",
       "\n",
       "    .dataframe thead th {\n",
       "        text-align: right;\n",
       "    }\n",
       "</style>\n",
       "<table border=\"1\" class=\"dataframe\">\n",
       "  <thead>\n",
       "    <tr style=\"text-align: right;\">\n",
       "      <th></th>\n",
       "      <th>Product name</th>\n",
       "      <th>Price</th>\n",
       "    </tr>\n",
       "  </thead>\n",
       "  <tbody>\n",
       "    <tr>\n",
       "      <th>0</th>\n",
       "      <td>apple</td>\n",
       "      <td>879879.0</td>\n",
       "    </tr>\n",
       "    <tr>\n",
       "      <th>1</th>\n",
       "      <td>mi</td>\n",
       "      <td>565.0</td>\n",
       "    </tr>\n",
       "    <tr>\n",
       "      <th>2</th>\n",
       "      <td>samsung</td>\n",
       "      <td>NaN</td>\n",
       "    </tr>\n",
       "    <tr>\n",
       "      <th>3</th>\n",
       "      <td>nokia</td>\n",
       "      <td>3453.0</td>\n",
       "    </tr>\n",
       "    <tr>\n",
       "      <th>4</th>\n",
       "      <td>moto</td>\n",
       "      <td>908709.0</td>\n",
       "    </tr>\n",
       "    <tr>\n",
       "      <th>5</th>\n",
       "      <td>vivo</td>\n",
       "      <td>5463.0</td>\n",
       "    </tr>\n",
       "    <tr>\n",
       "      <th>6</th>\n",
       "      <td>oppo</td>\n",
       "      <td>87678.0</td>\n",
       "    </tr>\n",
       "  </tbody>\n",
       "</table>\n",
       "</div>"
      ],
      "text/plain": [
       "  Product name     Price\n",
       "0        apple  879879.0\n",
       "1           mi     565.0\n",
       "2      samsung       NaN\n",
       "3        nokia    3453.0\n",
       "4         moto  908709.0\n",
       "5         vivo    5463.0\n",
       "6         oppo   87678.0"
      ]
     },
     "execution_count": 108,
     "metadata": {},
     "output_type": "execute_result"
    }
   ],
   "source": [
    "df=pd.read_csv('customer purchase.csv')\n",
    "df"
   ]
  },
  {
   "cell_type": "code",
   "execution_count": 109,
   "id": "a918d6e3-e09d-4524-96d1-8a4f9b48580c",
   "metadata": {},
   "outputs": [
    {
     "data": {
      "text/plain": [
       "Product name    0\n",
       "Price           1\n",
       "dtype: int64"
      ]
     },
     "execution_count": 109,
     "metadata": {},
     "output_type": "execute_result"
    }
   ],
   "source": [
    "df.isnull().sum()"
   ]
  },
  {
   "cell_type": "code",
   "execution_count": 110,
   "id": "80cf2a80-6daa-408c-836c-68548424c98f",
   "metadata": {},
   "outputs": [
    {
     "data": {
      "text/plain": [
       "Product name     object\n",
       "Price           float64\n",
       "dtype: object"
      ]
     },
     "execution_count": 110,
     "metadata": {},
     "output_type": "execute_result"
    }
   ],
   "source": [
    "df.dtypes"
   ]
  },
  {
   "cell_type": "code",
   "execution_count": 113,
   "id": "cb3fbdc6-ade2-479e-9c7a-2b9e55b2f1cb",
   "metadata": {},
   "outputs": [
    {
     "data": {
      "text/plain": [
       "<bound method Series.mean of 0    879879.0\n",
       "1       565.0\n",
       "2         NaN\n",
       "3      3453.0\n",
       "4    908709.0\n",
       "5      5463.0\n",
       "6     87678.0\n",
       "Name: Price, dtype: float64>"
      ]
     },
     "execution_count": 113,
     "metadata": {},
     "output_type": "execute_result"
    }
   ],
   "source": [
    "df['Price'].mean"
   ]
  },
  {
   "cell_type": "code",
   "execution_count": 114,
   "id": "82466b1a-7531-475d-8244-2295c131aa6d",
   "metadata": {},
   "outputs": [],
   "source": [
    "df['Price'] = df['Price'].fillna(df['Price'].mean())"
   ]
  },
  {
   "cell_type": "code",
   "execution_count": 115,
   "id": "2e91764f-38f6-4ce7-9158-b2431f84f2fe",
   "metadata": {},
   "outputs": [
    {
     "name": "stdout",
     "output_type": "stream",
     "text": [
      "  Product name          Price\n",
      "0        apple  879879.000000\n",
      "1           mi     565.000000\n",
      "2      samsung  314291.166667\n",
      "3        nokia    3453.000000\n",
      "4         moto  908709.000000\n",
      "5         vivo    5463.000000\n",
      "6         oppo   87678.000000\n"
     ]
    }
   ],
   "source": [
    "print(df)"
   ]
  },
  {
   "cell_type": "code",
   "execution_count": 116,
   "id": "29d33125-23b7-471a-98ba-c70f24135f2f",
   "metadata": {},
   "outputs": [
    {
     "data": {
      "text/plain": [
       "0      Apple\n",
       "1         Mi\n",
       "2    Samsung\n",
       "3      Nokia\n",
       "4       Moto\n",
       "5       Vivo\n",
       "6       Oppo\n",
       "Name: Product name, dtype: object"
      ]
     },
     "execution_count": 116,
     "metadata": {},
     "output_type": "execute_result"
    }
   ],
   "source": [
    "df['Product name'] = df['Product name'].str.capitalize()\n",
    "df['Product name'] "
   ]
  }
 ],
 "metadata": {
  "kernelspec": {
   "display_name": "Python 3 (ipykernel)",
   "language": "python",
   "name": "python3"
  },
  "language_info": {
   "codemirror_mode": {
    "name": "ipython",
    "version": 3
   },
   "file_extension": ".py",
   "mimetype": "text/x-python",
   "name": "python",
   "nbconvert_exporter": "python",
   "pygments_lexer": "ipython3",
   "version": "3.10.11"
  }
 },
 "nbformat": 4,
 "nbformat_minor": 5
}
